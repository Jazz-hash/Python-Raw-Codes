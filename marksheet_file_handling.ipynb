{
 "cells": [
  {
   "cell_type": "code",
   "execution_count": 4,
   "metadata": {},
   "outputs": [
    {
     "name": "stdout",
     "output_type": "stream",
     "text": [
      "Enter name of the student: Jazzel MEhmood\n",
      "Enter class of student: 9\n",
      "Enter roll no of student: 12321312\n",
      "Enter marks in English: 99\n",
      "Enter marks in Mathematics: 99\n",
      "Enter marks in Urdu: 99\n",
      "Enter marks in Chemistry: 99\n",
      "Enter marks in Physics: 99\n",
      "Enter marks in Islamiat: 99\n",
      "Marksheet Generated !!\n"
     ]
    }
   ],
   "source": [
    "def marksheet():\n",
    "    name = input(\"Enter name of the student: \")\n",
    "    std_class = input(\"Enter class of student: \")\n",
    "    roll_no = input(\"Enter roll no of student: \")\n",
    "    marks_english = input(\"Enter marks in English: \")\n",
    "    marks_mathematics = input(\"Enter marks in Mathematics: \")\n",
    "    marks_urdu = input(\"Enter marks in Urdu: \")\n",
    "    marks_chemistry = input(\"Enter marks in Chemistry: \")\n",
    "    marks_physics = input(\"Enter marks in Physics: \")\n",
    "    marks_islamiat = input(\"Enter marks in Islamiat: \")\n",
    "    marks_total = 600\n",
    "    try:\n",
    "        english = float(marks_english)\n",
    "        mathematics = float(marks_mathematics)\n",
    "        urdu = float(marks_urdu)\n",
    "        chemistry = float(marks_chemistry)\n",
    "        physics = float(marks_physics)\n",
    "        islamiat = float(marks_islamiat)\n",
    "        total = float(marks_total)\n",
    "        obtained = english + mathematics + urdu + chemistry + physics + islamiat\n",
    "        percentage = (obtained * 100) / total\n",
    "        if percentage >= 80:\n",
    "            grade = \"A+\"\n",
    "        elif percentage >= 70:\n",
    "            grade = \"A\"\n",
    "        elif percentage >= 60:\n",
    "            grade = \"B\"\n",
    "        elif percentage >= 50:\n",
    "            grade = \"C\"\n",
    "        elif percentage >= 40:\n",
    "            grade = \"D\"\n",
    "        elif percentage >= 33:\n",
    "            grade = \"E\"\n",
    "        elif percentage < 33:\n",
    "            grade = \"F\"\n",
    "\n",
    "        with open(\"marksheet.txt\", \"w\") as file:\n",
    "            file.write(\"  ----------------->>>>>>>>>   <<<<<<<<<------------------\\n\")\n",
    "            file.write(\"                         MARKSHEET\\n \")\n",
    "            file.write(\" ----------------->>>>>>>>>   <<<<<<<<<------------------\\n\\n\")\n",
    "            file.write(\"        Name : \"+name+\"\\n\")\n",
    "            file.write(\"        Class : \"+std_class+\"\\n\")\n",
    "            file.write(\"        Roll Number : \"+roll_no+\"\\n\")\n",
    "            file.write(\"                   ---------------------\"+\"\\n\")\n",
    "            file.write(\"                     MARKS IN SUBJECTS \"+\"\\n\")\n",
    "            file.write(\"                   ---------------------\"+\"\\n\")\n",
    "            file.write(\"                    English     : \" + str(english)+\"\\n\")\n",
    "            file.write(\"                    Mathematics : \" + str(mathematics)+\"\\n\")\n",
    "            file.write(\"                    Urdu        : \" + str(urdu)+\"\\n\")\n",
    "            file.write(\"                    Chemistry   : \" + str(chemistry)+\"\\n\")\n",
    "            file.write(\"                    Physics     : \" + str(physics)+\"\\n\")\n",
    "            file.write(\"                    Islamiat    : \" + str(islamiat)+\"\\n\")\n",
    "            file.write(\"\\n        Total Marks : \" + str(total) + \" Obtained Marks : \"+ str(obtained)+\"\\n\")\n",
    "            file.write(\"        Percentage : \" + str(percentage) + \" Grade : \"+ str(grade)+\"\\n\\n\")\n",
    "            file.write(\" ----------------->>>>>>>>>   <<<<<<<<<------------------\")\n",
    "            print(\"Marksheet Generated !!\")\n",
    "    except ValueError:\n",
    "        print(\"Please enter correct marks in subjects !!\")\n",
    "\n",
    "\n",
    "marksheet()"
   ]
  },
  {
   "cell_type": "code",
   "execution_count": null,
   "metadata": {},
   "outputs": [],
   "source": []
  }
 ],
 "metadata": {
  "kernelspec": {
   "display_name": "Python 3",
   "language": "python",
   "name": "python3"
  },
  "language_info": {
   "codemirror_mode": {
    "name": "ipython",
    "version": 3
   },
   "file_extension": ".py",
   "mimetype": "text/x-python",
   "name": "python",
   "nbconvert_exporter": "python",
   "pygments_lexer": "ipython3",
   "version": "3.7.3"
  }
 },
 "nbformat": 4,
 "nbformat_minor": 2
}
